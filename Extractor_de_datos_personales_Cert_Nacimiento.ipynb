{
  "nbformat": 4,
  "nbformat_minor": 0,
  "metadata": {
    "colab": {
      "name": "Extractor de datos personales - Cert. Nacimiento.ipynb",
      "provenance": [],
      "collapsed_sections": [],
      "authorship_tag": "ABX9TyMb94RmMLLN64+HIKVOGcLZ",
      "include_colab_link": true
    },
    "kernelspec": {
      "name": "python3",
      "display_name": "Python 3"
    },
    "language_info": {
      "name": "python"
    }
  },
  "cells": [
    {
      "cell_type": "markdown",
      "metadata": {
        "id": "view-in-github",
        "colab_type": "text"
      },
      "source": [
        "<a href=\"https://colab.research.google.com/github/joserodriguezc/CN_extrac_datos_personales/blob/main/Extractor_de_datos_personales_Cert_Nacimiento.ipynb\" target=\"_parent\"><img src=\"https://colab.research.google.com/assets/colab-badge.svg\" alt=\"Open In Colab\"/></a>"
      ]
    },
    {
      "cell_type": "code",
      "execution_count": null,
      "metadata": {
        "id": "Ytl99F9DB7aO"
      },
      "outputs": [],
      "source": [
        "%%capture\n",
        "!pip install slate3k"
      ]
    },
    {
      "cell_type": "code",
      "source": [
        "import slate3k as slate\n",
        "import pandas as pd\n",
        "import os"
      ],
      "metadata": {
        "id": "jMXc6XhaDwWB"
      },
      "execution_count": null,
      "outputs": []
    },
    {
      "cell_type": "code",
      "source": [
        "def get_files(folder):\n",
        "    os.chdir(folder)\n",
        "    files = os.listdir()\n",
        "    files = [x for x in files if x.endswith(\".pdf\")]\n",
        "    return files"
      ],
      "metadata": {
        "id": "DIeYrSw2g8D3"
      },
      "execution_count": null,
      "outputs": []
    },
    {
      "cell_type": "code",
      "source": [
        "def extract_data(file):\n",
        "  text  = slate.PDF(open('./'+file, 'rb')).text()\n",
        "  s1 = text.find('Nombre inscrito')\n",
        "  s2 = text.find('Fecha nacimiento')\n",
        "  text = text[s1:s2].split(': ')\n",
        "  \n",
        "  data = []\n",
        "  for w in text:\n",
        "    if w == 'Nombre inscrito ':\n",
        "      pass\n",
        "    else:\n",
        "      w = w.replace(' R.U.N. ', \"\")\n",
        "      w = w.replace('.', \"\")\n",
        "      w = w.replace('-', \"\")\n",
        "      w = w.strip()\n",
        "      data.append(w)\n",
        "  return sorted(data)"
      ],
      "metadata": {
        "id": "hviiUF0oGawh"
      },
      "execution_count": null,
      "outputs": []
    },
    {
      "cell_type": "code",
      "source": [
        "def get_name_run(folder, res_num):\n",
        "  data = []\n",
        "  files = get_files(folder)\n",
        "  for file in files:\n",
        "    a = extract_data(file)\n",
        "    data.append(a)\n",
        "  df = pd.DataFrame(data, columns=['RUT', 'Nombre completo'])\n",
        "  filename = 'CN_nombre_rut_RES_' + str(res_num) + '.xlsx'\n",
        "  df.to_excel(filename)  "
      ],
      "metadata": {
        "id": "6NBFCH0YfW83"
      },
      "execution_count": null,
      "outputs": []
    },
    {
      "cell_type": "code",
      "source": [
        "get_name_run('./', 99)"
      ],
      "metadata": {
        "id": "MsszAkdsgTnQ"
      },
      "execution_count": null,
      "outputs": []
    },
    {
      "cell_type": "code",
      "source": [
        ""
      ],
      "metadata": {
        "id": "qP3o4FotENQC"
      },
      "execution_count": null,
      "outputs": []
    }
  ]
}